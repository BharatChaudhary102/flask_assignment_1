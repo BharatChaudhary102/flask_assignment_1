{
 "cells": [
  {
   "cell_type": "code",
   "execution_count": 2,
   "id": "38fa152b-1942-43bb-b5fc-60d024d81332",
   "metadata": {},
   "outputs": [],
   "source": [
    "from flask import Flask, request"
   ]
  },
  {
   "cell_type": "code",
   "execution_count": 3,
   "id": "664233ef-e957-4393-bb3c-ca9f376da2b1",
   "metadata": {},
   "outputs": [],
   "source": [
    "app = Flask(__name__)"
   ]
  },
  {
   "cell_type": "code",
   "execution_count": 4,
   "id": "05eb355b-67c4-4a12-b345-2053bfc16445",
   "metadata": {},
   "outputs": [],
   "source": [
    "@app.route('/welcome')\n",
    "def welcome_route():\n",
    "    return \"Welcome to ABC Corporation\""
   ]
  },
  {
   "cell_type": "code",
   "execution_count": 5,
   "id": "bbccd4e1-9a5b-4b2f-9446-ad533626db19",
   "metadata": {},
   "outputs": [],
   "source": [
    "@app.route('/')\n",
    "def details_route():\n",
    "    return {\n",
    "        \"Company Name\": \"ABC Corporation\",\n",
    "        \"Location\": \"India\",\n",
    "        \"Contact Detail\": \"999-999-9999\"\n",
    "    }"
   ]
  },
  {
   "cell_type": "code",
   "execution_count": 6,
   "id": "1204a472-5bb4-4e12-8340-19e329a4e59b",
   "metadata": {},
   "outputs": [
    {
     "name": "stdout",
     "output_type": "stream",
     "text": [
      " * Serving Flask app '__main__'\n",
      " * Debug mode: off\n"
     ]
    },
    {
     "name": "stderr",
     "output_type": "stream",
     "text": [
      "WARNING: This is a development server. Do not use it in a production deployment. Use a production WSGI server instead.\n",
      " * Running on all addresses (0.0.0.0)\n",
      " * Running on http://127.0.0.1:5000\n",
      " * Running on http://172.18.0.6:5000\n",
      "Press CTRL+C to quit\n",
      "172.18.0.2 - - [08/Mar/2023 19:22:59] \"GET / HTTP/1.1\" 200 -\n",
      "172.18.0.2 - - [08/Mar/2023 19:24:23] \"GET /welcome HTTP/1.1\" 200 -\n"
     ]
    }
   ],
   "source": [
    "if __name__ == \"__main__\":\n",
    "    app.run(host='0.0.0.0')"
   ]
  },
  {
   "cell_type": "code",
   "execution_count": null,
   "id": "02c10547-c9df-4653-9948-2bf16456406b",
   "metadata": {},
   "outputs": [],
   "source": []
  }
 ],
 "metadata": {
  "kernelspec": {
   "display_name": "Python 3 (ipykernel)",
   "language": "python",
   "name": "python3"
  },
  "language_info": {
   "codemirror_mode": {
    "name": "ipython",
    "version": 3
   },
   "file_extension": ".py",
   "mimetype": "text/x-python",
   "name": "python",
   "nbconvert_exporter": "python",
   "pygments_lexer": "ipython3",
   "version": "3.10.8"
  }
 },
 "nbformat": 4,
 "nbformat_minor": 5
}
