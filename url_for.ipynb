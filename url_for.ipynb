{
 "cells": [
  {
   "cell_type": "code",
   "execution_count": 2,
   "id": "1f7718e4-200d-4150-96ee-65bd99647d5e",
   "metadata": {},
   "outputs": [],
   "source": [
    "from flask import Flask, url_for"
   ]
  },
  {
   "cell_type": "code",
   "execution_count": 3,
   "id": "7d2ad32f-ac85-4d4b-95d9-0fbaf6da6121",
   "metadata": {},
   "outputs": [],
   "source": [
    "app = Flask(__name__)"
   ]
  },
  {
   "cell_type": "code",
   "execution_count": 4,
   "id": "71c0247a-57c1-454b-8b61-fe34e668ff4b",
   "metadata": {},
   "outputs": [],
   "source": [
    "@app.route('/')\n",
    "def home():\n",
    "    return 'Welcome to the home page!'"
   ]
  },
  {
   "cell_type": "code",
   "execution_count": 5,
   "id": "2f7c9e53-01d6-4cc2-85cb-9916d131a8d9",
   "metadata": {},
   "outputs": [],
   "source": [
    "@app.route('/user/<username>')\n",
    "def user_profile(username):\n",
    "    return f'Hello, {username}!'"
   ]
  },
  {
   "cell_type": "code",
   "execution_count": 6,
   "id": "d1403e6d-c3fc-44f0-9aab-e51d0d522a15",
   "metadata": {},
   "outputs": [],
   "source": [
    "@app.route('/login')\n",
    "def login():\n",
    "    return 'Please login to continue.'"
   ]
  },
  {
   "cell_type": "code",
   "execution_count": 7,
   "id": "e6d9a450-72f0-4bd7-97bf-55f8eff2ea29",
   "metadata": {},
   "outputs": [
    {
     "name": "stdout",
     "output_type": "stream",
     "text": [
      "/\n",
      "/user/John\n",
      "/login?next=%2Fdashboard\n"
     ]
    }
   ],
   "source": [
    "with app.test_request_context():\n",
    "    print(url_for('home'))\n",
    "    print(url_for('user_profile', username='John'))\n",
    "    print(url_for('login', next='/dashboard')) "
   ]
  },
  {
   "cell_type": "code",
   "execution_count": null,
   "id": "d48b33d7-f1a0-4d21-9150-99736351a1c9",
   "metadata": {},
   "outputs": [],
   "source": []
  }
 ],
 "metadata": {
  "kernelspec": {
   "display_name": "Python 3 (ipykernel)",
   "language": "python",
   "name": "python3"
  },
  "language_info": {
   "codemirror_mode": {
    "name": "ipython",
    "version": 3
   },
   "file_extension": ".py",
   "mimetype": "text/x-python",
   "name": "python",
   "nbconvert_exporter": "python",
   "pygments_lexer": "ipython3",
   "version": "3.10.8"
  }
 },
 "nbformat": 4,
 "nbformat_minor": 5
}
